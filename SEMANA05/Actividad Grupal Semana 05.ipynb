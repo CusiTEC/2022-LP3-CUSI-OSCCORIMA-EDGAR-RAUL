{
 "cells": [
  {
   "cell_type": "code",
   "execution_count": 25,
   "id": "0c276fb3",
   "metadata": {},
   "outputs": [],
   "source": [
    "canasta1 = [\"manzana\",\"pera\",\"naranja\"]\n",
    "canasta2 = [\"manzana\",\"pera\",\"tuna\"]\n",
    "\n",
    "\n",
    "canasta3 = canasta1\n"
   ]
  },
  {
   "cell_type": "code",
   "execution_count": 26,
   "id": "8a0ba9f5",
   "metadata": {},
   "outputs": [
    {
     "data": {
      "text/plain": [
       "True"
      ]
     },
     "execution_count": 26,
     "metadata": {},
     "output_type": "execute_result"
    }
   ],
   "source": [
    "canasta3 is canasta1"
   ]
  },
  {
   "cell_type": "code",
   "execution_count": 27,
   "id": "3429f60f",
   "metadata": {},
   "outputs": [
    {
     "data": {
      "text/plain": [
       "False"
      ]
     },
     "execution_count": 27,
     "metadata": {},
     "output_type": "execute_result"
    }
   ],
   "source": [
    "canasta3 is canasta2"
   ]
  },
  {
   "cell_type": "code",
   "execution_count": 28,
   "id": "d17e2de2",
   "metadata": {},
   "outputs": [
    {
     "data": {
      "text/plain": [
       "False"
      ]
     },
     "execution_count": 28,
     "metadata": {},
     "output_type": "execute_result"
    }
   ],
   "source": [
    "canasta2 is canasta1"
   ]
  },
  {
   "cell_type": "code",
   "execution_count": 29,
   "id": "69eb26a6",
   "metadata": {},
   "outputs": [],
   "source": [
    "canasta1.append(\"platano\")"
   ]
  },
  {
   "cell_type": "code",
   "execution_count": 30,
   "id": "381685ae",
   "metadata": {},
   "outputs": [
    {
     "name": "stdout",
     "output_type": "stream",
     "text": [
      "['manzana', 'pera', 'naranja', 'platano']\n"
     ]
    }
   ],
   "source": [
    "print(canasta1)"
   ]
  },
  {
   "cell_type": "code",
   "execution_count": 31,
   "id": "0ac4861d",
   "metadata": {},
   "outputs": [
    {
     "name": "stdout",
     "output_type": "stream",
     "text": [
      "['manzana', 'pera', 'naranja', 'platano']\n"
     ]
    }
   ],
   "source": [
    "print(canasta3)"
   ]
  },
  {
   "cell_type": "code",
   "execution_count": 32,
   "id": "32d64734",
   "metadata": {},
   "outputs": [
    {
     "data": {
      "text/plain": [
       "True"
      ]
     },
     "execution_count": 32,
     "metadata": {},
     "output_type": "execute_result"
    }
   ],
   "source": [
    "canasta3 is canasta1"
   ]
  },
  {
   "cell_type": "code",
   "execution_count": 33,
   "id": "d1a95bba",
   "metadata": {},
   "outputs": [],
   "source": [
    "canasta3=canasta2"
   ]
  },
  {
   "cell_type": "code",
   "execution_count": 34,
   "id": "961e8620",
   "metadata": {},
   "outputs": [],
   "source": [
    "canasta2.append(\"mango\")"
   ]
  },
  {
   "cell_type": "code",
   "execution_count": 35,
   "id": "cfa9f732",
   "metadata": {},
   "outputs": [
    {
     "name": "stdout",
     "output_type": "stream",
     "text": [
      "['manzana', 'pera', 'tuna', 'mango']\n"
     ]
    }
   ],
   "source": [
    "print(canasta3)"
   ]
  },
  {
   "cell_type": "code",
   "execution_count": 14,
   "id": "0cbd782f",
   "metadata": {},
   "outputs": [
    {
     "name": "stdout",
     "output_type": "stream",
     "text": [
      "['manzana', 'pera', 'tuna', 'mango']\n"
     ]
    }
   ],
   "source": [
    "print(canasta2)"
   ]
  },
  {
   "cell_type": "code",
   "execution_count": 36,
   "id": "324efa80",
   "metadata": {},
   "outputs": [
    {
     "name": "stdout",
     "output_type": "stream",
     "text": [
      "['manzana', 'pera', 'naranja', 'platano']\n"
     ]
    }
   ],
   "source": [
    "print(canasta1)"
   ]
  },
  {
   "cell_type": "code",
   "execution_count": 37,
   "id": "a799c53d",
   "metadata": {},
   "outputs": [
    {
     "data": {
      "text/plain": [
       "False"
      ]
     },
     "execution_count": 37,
     "metadata": {},
     "output_type": "execute_result"
    }
   ],
   "source": [
    "canasta3 is canasta1"
   ]
  },
  {
   "cell_type": "code",
   "execution_count": 38,
   "id": "986dda43",
   "metadata": {},
   "outputs": [
    {
     "data": {
      "text/plain": [
       "True"
      ]
     },
     "execution_count": 38,
     "metadata": {},
     "output_type": "execute_result"
    }
   ],
   "source": [
    "canasta2 is canasta3"
   ]
  },
  {
   "cell_type": "code",
   "execution_count": null,
   "id": "9b6cb5cf",
   "metadata": {},
   "outputs": [],
   "source": []
  }
 ],
 "metadata": {
  "kernelspec": {
   "display_name": "Python 3 (ipykernel)",
   "language": "python",
   "name": "python3"
  },
  "language_info": {
   "codemirror_mode": {
    "name": "ipython",
    "version": 3
   },
   "file_extension": ".py",
   "mimetype": "text/x-python",
   "name": "python",
   "nbconvert_exporter": "python",
   "pygments_lexer": "ipython3",
   "version": "3.9.7"
  }
 },
 "nbformat": 4,
 "nbformat_minor": 5
}
