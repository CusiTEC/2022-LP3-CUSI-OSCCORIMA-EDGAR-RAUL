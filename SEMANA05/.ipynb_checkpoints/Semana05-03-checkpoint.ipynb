{
 "cells": [
  {
   "cell_type": "markdown",
   "id": "d067b005",
   "metadata": {},
   "source": [
    "# SEMANA 05\n",
    "EDGAR RAUL CUSI OSCCORIMA\n",
    "\n",
    "TEMAS:"
   ]
  },
  {
   "cell_type": "markdown",
   "id": "03d1fbdd",
   "metadata": {},
   "source": [
    "1.numeros\n",
    "2.variables\n",
    "3.Manejo de cadenas\n",
    "4.Ingreso de datos por teclado\n",
    "5.operadores"
   ]
  },
  {
   "cell_type": "markdown",
   "id": "5ac77397",
   "metadata": {},
   "source": [
    "2.Cadenas"
   ]
  },
  {
   "cell_type": "code",
   "execution_count": 1,
   "id": "32fee609",
   "metadata": {},
   "outputs": [
    {
     "data": {
      "text/plain": [
       "'untels'"
      ]
     },
     "execution_count": 1,
     "metadata": {},
     "output_type": "execute_result"
    }
   ],
   "source": [
    "cadena = \"untels\"\n",
    "cadena"
   ]
  },
  {
   "cell_type": "code",
   "execution_count": null,
   "id": "8e26768c",
   "metadata": {},
   "outputs": [],
   "source": [
    "#UNIVERSIDAD NACIONAL TECNOLOGICA DE LIMA SUR"
   ]
  }
 ],
 "metadata": {
  "kernelspec": {
   "display_name": "Python 3 (ipykernel)",
   "language": "python",
   "name": "python3"
  },
  "language_info": {
   "codemirror_mode": {
    "name": "ipython",
    "version": 3
   },
   "file_extension": ".py",
   "mimetype": "text/x-python",
   "name": "python",
   "nbconvert_exporter": "python",
   "pygments_lexer": "ipython3",
   "version": "3.9.7"
  }
 },
 "nbformat": 4,
 "nbformat_minor": 5
}
