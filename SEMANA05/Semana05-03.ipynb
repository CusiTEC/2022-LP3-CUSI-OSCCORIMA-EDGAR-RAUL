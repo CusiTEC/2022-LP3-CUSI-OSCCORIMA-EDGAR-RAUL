{
 "cells": [
  {
   "cell_type": "markdown",
   "id": "d067b005",
   "metadata": {},
   "source": [
    "# SEMANA 05\n",
    "EDGAR RAUL CUSI OSCCORIMA\n",
    "\n",
    "TEMAS:"
   ]
  },
  {
   "cell_type": "markdown",
   "id": "03d1fbdd",
   "metadata": {},
   "source": [
    "1.numeros\n",
    "2.variables\n",
    "3.Manejo de cadenas\n",
    "4.Ingreso de datos por teclado\n",
    "5.operadores"
   ]
  },
  {
   "cell_type": "markdown",
   "id": "5ac77397",
   "metadata": {},
   "source": [
    "2.Cadenas"
   ]
  },
  {
   "cell_type": "code",
   "execution_count": 4,
   "id": "0564c857",
   "metadata": {},
   "outputs": [
    {
     "data": {
      "text/plain": [
       "'Universidad Nacional Tecnologica de Lima Sur'"
      ]
     },
     "execution_count": 4,
     "metadata": {},
     "output_type": "execute_result"
    }
   ],
   "source": [
    "cadena = \"Universidad Nacional Tecnologica de Lima Sur\"\n",
    "cadena"
   ]
  },
  {
   "cell_type": "code",
   "execution_count": 2,
   "id": "bb5cbf5e",
   "metadata": {},
   "outputs": [],
   "source": [
    "#UNIVERSIDAD NACIONAL TECNOLOGICA DE LIMA SUR"
   ]
  },
  {
   "cell_type": "code",
   "execution_count": 5,
   "id": "d1c5a306",
   "metadata": {},
   "outputs": [
    {
     "data": {
      "text/plain": [
       "'r'"
      ]
     },
     "execution_count": 5,
     "metadata": {},
     "output_type": "execute_result"
    }
   ],
   "source": [
    "cadena[5]"
   ]
  },
  {
   "cell_type": "code",
   "execution_count": 6,
   "id": "acba14a3",
   "metadata": {},
   "outputs": [
    {
     "data": {
      "text/plain": [
       "'d'"
      ]
     },
     "execution_count": 6,
     "metadata": {},
     "output_type": "execute_result"
    }
   ],
   "source": [
    "cadena[10]"
   ]
  },
  {
   "cell_type": "code",
   "execution_count": 8,
   "id": "354ac5ad",
   "metadata": {},
   "outputs": [
    {
     "data": {
      "text/plain": [
       "' '"
      ]
     },
     "execution_count": 8,
     "metadata": {},
     "output_type": "execute_result"
    }
   ],
   "source": [
    "cadena[11]"
   ]
  },
  {
   "cell_type": "code",
   "execution_count": 9,
   "id": "12aa6d00",
   "metadata": {},
   "outputs": [
    {
     "data": {
      "text/plain": [
       "'a'"
      ]
     },
     "execution_count": 9,
     "metadata": {},
     "output_type": "execute_result"
    }
   ],
   "source": [
    "cadena[-5]"
   ]
  },
  {
   "cell_type": "code",
   "execution_count": 10,
   "id": "6d5c4bdc",
   "metadata": {},
   "outputs": [
    {
     "data": {
      "text/plain": [
       "'T'"
      ]
     },
     "execution_count": 10,
     "metadata": {},
     "output_type": "execute_result"
    }
   ],
   "source": [
    "cadena[21]"
   ]
  },
  {
   "cell_type": "code",
   "execution_count": 13,
   "id": "ba07ad86",
   "metadata": {},
   "outputs": [
    {
     "data": {
      "text/plain": [
       "'T'"
      ]
     },
     "execution_count": 13,
     "metadata": {},
     "output_type": "execute_result"
    }
   ],
   "source": [
    "cadena[-23]"
   ]
  },
  {
   "cell_type": "code",
   "execution_count": 17,
   "id": "cd6e8516",
   "metadata": {},
   "outputs": [
    {
     "data": {
      "text/plain": [
       "'Nacional'"
      ]
     },
     "execution_count": 17,
     "metadata": {},
     "output_type": "execute_result"
    }
   ],
   "source": [
    "#SUBCADENA\n",
    "cadena[12:20]"
   ]
  },
  {
   "cell_type": "code",
   "execution_count": 18,
   "id": "b621f04c",
   "metadata": {},
   "outputs": [
    {
     "data": {
      "text/plain": [
       "44"
      ]
     },
     "execution_count": 18,
     "metadata": {},
     "output_type": "execute_result"
    }
   ],
   "source": [
    "#TAMAÑO DE CADEANAS len()\n",
    "len(cadena)"
   ]
  },
  {
   "cell_type": "code",
   "execution_count": 31,
   "id": "3e2957b6",
   "metadata": {},
   "outputs": [
    {
     "data": {
      "text/plain": [
       "'UNIVERSIDAD NACIONAL TECNOLOGICA DE LIMA SUR'"
      ]
     },
     "execution_count": 31,
     "metadata": {},
     "output_type": "execute_result"
    }
   ],
   "source": [
    "#CONVERTIR A MAYUSCULAS\n",
    "cadena = cadena.upper()\n",
    "cadena"
   ]
  },
  {
   "cell_type": "code",
   "execution_count": 29,
   "id": "84b08140",
   "metadata": {},
   "outputs": [
    {
     "data": {
      "text/plain": [
       "'universidad nacional tecnologica de lima sur'"
      ]
     },
     "execution_count": 29,
     "metadata": {},
     "output_type": "execute_result"
    }
   ],
   "source": [
    "#CONVERTIR A MINUSCULAS\n",
    "cadena.lower()\n"
   ]
  },
  {
   "cell_type": "code",
   "execution_count": 37,
   "id": "d0243795",
   "metadata": {},
   "outputs": [
    {
     "data": {
      "text/plain": [
       "['UNIVERSIDAD', 'NACIONAL', 'TECNOLOGICA', 'DE', 'LIMA', 'SUR']"
      ]
     },
     "execution_count": 37,
     "metadata": {},
     "output_type": "execute_result"
    }
   ],
   "source": [
    "#CONVERTIR UNA CADE A LISTA\n",
    "cadena.split()"
   ]
  },
  {
   "cell_type": "code",
   "execution_count": 39,
   "id": "d546a26e",
   "metadata": {},
   "outputs": [
    {
     "data": {
      "text/plain": [
       "['UNIVERSID', 'D N', 'CION', 'L TECNOLOGIC', ' DE LIM', ' SUR']"
      ]
     },
     "execution_count": 39,
     "metadata": {},
     "output_type": "execute_result"
    }
   ],
   "source": [
    "#CONVERTIR UNA CADE A LISTA UTILIZANDO COMO CRITERIO DE SEPARACION LA LETRA A\n",
    "cadena.split(\"A\")"
   ]
  },
  {
   "cell_type": "code",
   "execution_count": 42,
   "id": "ce8ba2d3",
   "metadata": {},
   "outputs": [
    {
     "name": "stdout",
     "output_type": "stream",
     "text": [
      "BUENOS DIAS EDGAR\n"
     ]
    }
   ],
   "source": [
    "#CONCATENAR\n",
    "nombre=\"EDGAR\"\n",
    "print(\"BUENOS DIAS \"+nombre)"
   ]
  },
  {
   "cell_type": "code",
   "execution_count": 48,
   "id": "67f732b0",
   "metadata": {},
   "outputs": [
    {
     "name": "stdout",
     "output_type": "stream",
     "text": [
      "Hola Edgar ya se que tienes 12 años\n"
     ]
    }
   ],
   "source": [
    "#CONCATENAR EL .format()\n",
    "nombre = \"Edgar\"\n",
    "edad = 12\n",
    "print(\"Hola {} ya se que tienes {} años\".format(nombre, edad))"
   ]
  },
  {
   "cell_type": "code",
   "execution_count": 47,
   "id": "e00f1fd0",
   "metadata": {},
   "outputs": [
    {
     "name": "stdout",
     "output_type": "stream",
     "text": [
      "18/3 es 3.3333333333333335\n",
      "10/3 es 3.333\n"
     ]
    }
   ],
   "source": [
    "#dar formato con muchs decimales\n",
    "resultado = 10/3\n",
    "print(\"18/3 es {}\".format(resultado))\n",
    "print(\"10/3 es {r:1.3f}\".format(r=resultado))"
   ]
  },
  {
   "cell_type": "code",
   "execution_count": 51,
   "id": "5411c0c6",
   "metadata": {},
   "outputs": [
    {
     "name": "stdout",
     "output_type": "stream",
     "text": [
      "Buenos dias Daniel Levano ya se que tienes 18\n"
     ]
    }
   ],
   "source": [
    "#dar formato con f\n",
    "# ñla funcion f esta disponibe desd elña version 3.6\n",
    "\n",
    "nombre = \" Daniel Levano \"\n",
    "edad = 18\n",
    "print(f\"Buenos dias{nombre}ya se que tienes {edad}\")"
   ]
  },
  {
   "cell_type": "code",
   "execution_count": 53,
   "id": "3f725da8",
   "metadata": {},
   "outputs": [
    {
     "name": "stdout",
     "output_type": "stream",
     "text": [
      "El resultado es 3.333\n"
     ]
    }
   ],
   "source": [
    "#dar frioamto con muchosdecimlaes\n",
    "resultado = 10/3\n",
    "print(f\"El resultado es {resultado:1.3f}\")"
   ]
  },
  {
   "cell_type": "code",
   "execution_count": null,
   "id": "c6ab6ae1",
   "metadata": {},
   "outputs": [],
   "source": []
  }
 ],
 "metadata": {
  "kernelspec": {
   "display_name": "Python 3 (ipykernel)",
   "language": "python",
   "name": "python3"
  },
  "language_info": {
   "codemirror_mode": {
    "name": "ipython",
    "version": 3
   },
   "file_extension": ".py",
   "mimetype": "text/x-python",
   "name": "python",
   "nbconvert_exporter": "python",
   "pygments_lexer": "ipython3",
   "version": "3.9.7"
  }
 },
 "nbformat": 4,
 "nbformat_minor": 5
}
