{
 "cells": [
  {
   "cell_type": "markdown",
   "id": "d067b005",
   "metadata": {},
   "source": [
    "# SEMANA 05\n",
    "EDGAR RAUL CUSI OSCCORIMA\n",
    "\n",
    "TEMAS:"
   ]
  },
  {
   "cell_type": "markdown",
   "id": "03d1fbdd",
   "metadata": {},
   "source": [
    "1.numeros\n",
    "2.variables\n",
    "3.Manejo de cadenas\n",
    "4.Ingreso de datos por teclado\n",
    "5.operadores"
   ]
  },
  {
   "cell_type": "markdown",
   "id": "5ac77397",
   "metadata": {},
   "source": [
    "2. Variables"
   ]
  },
  {
   "cell_type": "code",
   "execution_count": 1,
   "id": "aab48221",
   "metadata": {},
   "outputs": [],
   "source": [
    "#ESTE ES UN COMENTARIO\n",
    "#Las variabels deben empezar con una letra o guion abajo(nunca con un número u otro simbolo)\n"
   ]
  },
  {
   "cell_type": "code",
   "execution_count": 2,
   "id": "3d3f0270",
   "metadata": {},
   "outputs": [
    {
     "data": {
      "text/plain": [
       "41"
      ]
     },
     "execution_count": 2,
     "metadata": {},
     "output_type": "execute_result"
    }
   ],
   "source": [
    "edad = 41\n",
    "edad"
   ]
  },
  {
   "cell_type": "code",
   "execution_count": 3,
   "id": "2e442669",
   "metadata": {},
   "outputs": [
    {
     "data": {
      "text/plain": [
       "'EDGAR'"
      ]
     },
     "execution_count": 3,
     "metadata": {},
     "output_type": "execute_result"
    }
   ],
   "source": [
    "nombre = \"EDGAR\"\n",
    "nombre"
   ]
  },
  {
   "cell_type": "code",
   "execution_count": 6,
   "id": "a962e7c3",
   "metadata": {},
   "outputs": [
    {
     "data": {
      "text/plain": [
       "'CUSI OSCCORIMA'"
      ]
     },
     "execution_count": 6,
     "metadata": {},
     "output_type": "execute_result"
    }
   ],
   "source": [
    "apellido = \"CUSI OSCCORIMA\"\n",
    "apellido"
   ]
  },
  {
   "cell_type": "code",
   "execution_count": 11,
   "id": "b4c4d194",
   "metadata": {},
   "outputs": [
    {
     "data": {
      "text/plain": [
       "'EDGAR CUSI OSCCORIMA'"
      ]
     },
     "execution_count": 11,
     "metadata": {},
     "output_type": "execute_result"
    }
   ],
   "source": [
    "nombre_completo = nombre +\" \"+ apellido\n",
    "nombre_completo"
   ]
  },
  {
   "cell_type": "code",
   "execution_count": 2,
   "id": "65ce74d9",
   "metadata": {},
   "outputs": [
    {
     "data": {
      "text/plain": [
       "int"
      ]
     },
     "execution_count": 2,
     "metadata": {},
     "output_type": "execute_result"
    }
   ],
   "source": [
    "#Para saber le tipo de varible uamos la funcion type()\n",
    "numero = 50\n",
    "type(numero)"
   ]
  },
  {
   "cell_type": "code",
   "execution_count": 5,
   "id": "eba84e33",
   "metadata": {},
   "outputs": [
    {
     "data": {
      "text/plain": [
       "str"
      ]
     },
     "execution_count": 5,
     "metadata": {},
     "output_type": "execute_result"
    }
   ],
   "source": [
    "type(\"nombre\")"
   ]
  },
  {
   "cell_type": "code",
   "execution_count": 6,
   "id": "a9d84b09",
   "metadata": {},
   "outputs": [
    {
     "data": {
      "text/plain": [
       "float"
      ]
     },
     "execution_count": 6,
     "metadata": {},
     "output_type": "execute_result"
    }
   ],
   "source": [
    "talla = 2.18\n",
    "type(talla)"
   ]
  },
  {
   "cell_type": "code",
   "execution_count": 9,
   "id": "1ec2e948",
   "metadata": {},
   "outputs": [
    {
     "data": {
      "text/plain": [
       "str"
      ]
     },
     "execution_count": 9,
     "metadata": {},
     "output_type": "execute_result"
    }
   ],
   "source": [
    "str(talla)\n",
    "talla\n",
    "type(\"talla\")"
   ]
  },
  {
   "cell_type": "code",
   "execution_count": 13,
   "id": "e16c6d50",
   "metadata": {},
   "outputs": [
    {
     "data": {
      "text/plain": [
       "'100'"
      ]
     },
     "execution_count": 13,
     "metadata": {},
     "output_type": "execute_result"
    }
   ],
   "source": [
    "#CONVERTIR NUMERO A CADENA\n",
    "numero = 100\n",
    "cadena = str(numero)\n",
    "cadena"
   ]
  },
  {
   "cell_type": "code",
   "execution_count": 15,
   "id": "13140943",
   "metadata": {},
   "outputs": [
    {
     "data": {
      "text/plain": [
       "50"
      ]
     },
     "execution_count": 15,
     "metadata": {},
     "output_type": "execute_result"
    }
   ],
   "source": [
    "#CONVERTIR CADENA A ENTERO\n",
    "cadena2 = \"50\"\n",
    "numero2 = int(cadena2)\n",
    "numero2\n"
   ]
  },
  {
   "cell_type": "code",
   "execution_count": 22,
   "id": "f5f8e0b7",
   "metadata": {},
   "outputs": [
    {
     "data": {
      "text/plain": [
       "50.0"
      ]
     },
     "execution_count": 22,
     "metadata": {},
     "output_type": "execute_result"
    }
   ],
   "source": [
    "#CONVERTIR CADENA A FLOAT\n",
    "cadena2 = \"50\"\n",
    "numero2 = float(cadena2)\n",
    "numero2"
   ]
  },
  {
   "cell_type": "code",
   "execution_count": 23,
   "id": "a1bd8d28",
   "metadata": {},
   "outputs": [
    {
     "data": {
      "text/plain": [
       "float"
      ]
     },
     "execution_count": 23,
     "metadata": {},
     "output_type": "execute_result"
    }
   ],
   "source": [
    "type(numero2)"
   ]
  },
  {
   "cell_type": "code",
   "execution_count": null,
   "id": "04a927b2",
   "metadata": {},
   "outputs": [],
   "source": []
  }
 ],
 "metadata": {
  "kernelspec": {
   "display_name": "Python 3 (ipykernel)",
   "language": "python",
   "name": "python3"
  },
  "language_info": {
   "codemirror_mode": {
    "name": "ipython",
    "version": 3
   },
   "file_extension": ".py",
   "mimetype": "text/x-python",
   "name": "python",
   "nbconvert_exporter": "python",
   "pygments_lexer": "ipython3",
   "version": "3.9.7"
  }
 },
 "nbformat": 4,
 "nbformat_minor": 5
}
