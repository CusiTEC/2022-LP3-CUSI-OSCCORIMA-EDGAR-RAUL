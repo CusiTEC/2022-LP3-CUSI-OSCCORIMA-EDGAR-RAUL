{
 "cells": [
  {
   "cell_type": "markdown",
   "id": "1aacd2fd",
   "metadata": {},
   "source": [
    "# SEMANA 05\n",
    "EDGAR RAUL CUSI OSCCORIMA"
   ]
  },
  {
   "cell_type": "markdown",
   "id": "f67df0a5",
   "metadata": {},
   "source": [
    "Temas\n",
    "\n",
    "1.numeros\n",
    "2.variables\n",
    "3.Manejo de cadenas\n",
    "4.Ingreso de datos por teclado\n",
    "5.operadores"
   ]
  },
  {
   "cell_type": "markdown",
   "id": "9f51cb18",
   "metadata": {},
   "source": [
    "1. numeros:"
   ]
  },
  {
   "cell_type": "code",
   "execution_count": 5,
   "id": "b9823520",
   "metadata": {},
   "outputs": [
    {
     "data": {
      "text/plain": [
       "9"
      ]
     },
     "execution_count": 5,
     "metadata": {},
     "output_type": "execute_result"
    }
   ],
   "source": [
    "4 + 5"
   ]
  },
  {
   "cell_type": "code",
   "execution_count": 6,
   "id": "9c9972a9",
   "metadata": {},
   "outputs": [
    {
     "data": {
      "text/plain": [
       "40"
      ]
     },
     "execution_count": 6,
     "metadata": {},
     "output_type": "execute_result"
    }
   ],
   "source": [
    "5*8"
   ]
  },
  {
   "cell_type": "code",
   "execution_count": 7,
   "id": "51e6a95d",
   "metadata": {},
   "outputs": [
    {
     "data": {
      "text/plain": [
       "4.0"
      ]
     },
     "execution_count": 7,
     "metadata": {},
     "output_type": "execute_result"
    }
   ],
   "source": [
    "12/3"
   ]
  },
  {
   "cell_type": "code",
   "execution_count": null,
   "id": "c5b30bec",
   "metadata": {},
   "outputs": [],
   "source": []
  }
 ],
 "metadata": {
  "kernelspec": {
   "display_name": "Python 3 (ipykernel)",
   "language": "python",
   "name": "python3"
  },
  "language_info": {
   "codemirror_mode": {
    "name": "ipython",
    "version": 3
   },
   "file_extension": ".py",
   "mimetype": "text/x-python",
   "name": "python",
   "nbconvert_exporter": "python",
   "pygments_lexer": "ipython3",
   "version": "3.9.7"
  }
 },
 "nbformat": 4,
 "nbformat_minor": 5
}
