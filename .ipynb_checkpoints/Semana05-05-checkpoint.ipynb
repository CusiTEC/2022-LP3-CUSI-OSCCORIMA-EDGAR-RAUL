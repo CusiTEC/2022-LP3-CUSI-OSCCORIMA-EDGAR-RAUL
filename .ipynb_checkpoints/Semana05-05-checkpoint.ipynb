{
 "cells": [
  {
   "cell_type": "markdown",
   "id": "c09c01e2",
   "metadata": {},
   "source": [
    "# Semana 05\n",
    "CUSI OSCCORIMA EDGAR RAUL"
   ]
  },
  {
   "cell_type": "markdown",
   "id": "4a648a8b",
   "metadata": {},
   "source": [
    "1. Números\n",
    "2. Variables\n",
    "3. Manejo de Cadenas\n",
    "4. Ingreso de datos por teclado\n",
    "5. Operadores"
   ]
  },
  {
   "cell_type": "markdown",
   "id": "944a02e8",
   "metadata": {},
   "source": [
    "5. Operadores"
   ]
  },
  {
   "cell_type": "code",
   "execution_count": null,
   "id": "befd3749",
   "metadata": {},
   "outputs": [],
   "source": [
    "#5.1 OPERADORES ARITMETICOS\n",
    "#SE TIENE + , - * , / "
   ]
  },
  {
   "cell_type": "code",
   "execution_count": 6,
   "id": "4c320c3b",
   "metadata": {},
   "outputs": [
    {
     "name": "stdout",
     "output_type": "stream",
     "text": [
      "13\n",
      "7\n",
      "30\n",
      "3.3333333333333335\n",
      "1\n",
      "1000\n",
      "3\n"
     ]
    }
   ],
   "source": [
    "num1 = 10\n",
    "num2 = 3\n",
    "suma = num1 + num2\n",
    "resta = num1 - num2 \n",
    "multi = num1 * num2\n",
    "div = num1 / num2\n",
    "residuo = num1%num2\n",
    "potencia = num1 ** num2\n",
    "cociente = num1 // num2\n",
    "print(suma)\n",
    "print(resta)\n",
    "print(multi)\n",
    "print(div)\n",
    "print(residuo)\n",
    "print(potencia)\n",
    "print(cociente)"
   ]
  },
  {
   "cell_type": "code",
   "execution_count": 7,
   "id": "8d0ba62f",
   "metadata": {},
   "outputs": [],
   "source": [
    "#5.2 Operadores de asignación\n",
    "#se tiene = , !=, -= ,+= , *= ,/=, **=\n",
    "num = 5\n",
    "num = num + 3\n",
    "print(num)\n"
   ]
  },
  {
   "cell_type": "code",
   "execution_count": null,
   "id": "3e800d8e",
   "metadata": {},
   "outputs": [],
   "source": []
  }
 ],
 "metadata": {
  "kernelspec": {
   "display_name": "Python 3 (ipykernel)",
   "language": "python",
   "name": "python3"
  },
  "language_info": {
   "codemirror_mode": {
    "name": "ipython",
    "version": 3
   },
   "file_extension": ".py",
   "mimetype": "text/x-python",
   "name": "python",
   "nbconvert_exporter": "python",
   "pygments_lexer": "ipython3",
   "version": "3.9.7"
  }
 },
 "nbformat": 4,
 "nbformat_minor": 5
}
