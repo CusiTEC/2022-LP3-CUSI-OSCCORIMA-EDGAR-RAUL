{
 "cells": [
  {
   "cell_type": "markdown",
   "id": "c09c01e2",
   "metadata": {},
   "source": [
    "# Semana 05\n",
    "CUSI OSCCORIMA EDGAR RAUL"
   ]
  },
  {
   "cell_type": "markdown",
   "id": "4a648a8b",
   "metadata": {},
   "source": [
    "1. Números\n",
    "2. Variables\n",
    "3. Manejo de Cadenas\n",
    "4. Ingreso de datos por teclado\n",
    "5. Operadores"
   ]
  },
  {
   "cell_type": "markdown",
   "id": "944a02e8",
   "metadata": {},
   "source": [
    "5. Operadores"
   ]
  },
  {
   "cell_type": "code",
   "execution_count": null,
   "id": "befd3749",
   "metadata": {},
   "outputs": [],
   "source": [
    "#5.1 OPERADORES ARITMETICOS\n",
    "#SE TIENE + , - * , / "
   ]
  },
  {
   "cell_type": "code",
   "execution_count": 6,
   "id": "4c320c3b",
   "metadata": {},
   "outputs": [
    {
     "name": "stdout",
     "output_type": "stream",
     "text": [
      "13\n",
      "7\n",
      "30\n",
      "3.3333333333333335\n",
      "1\n",
      "1000\n",
      "3\n"
     ]
    }
   ],
   "source": [
    "num1 = 10\n",
    "num2 = 3\n",
    "suma = num1 + num2\n",
    "resta = num1 - num2 \n",
    "multi = num1 * num2\n",
    "div = num1 / num2\n",
    "residuo = num1%num2\n",
    "potencia = num1 ** num2\n",
    "cociente = num1 // num2\n",
    "print(suma)\n",
    "print(resta)\n",
    "print(multi)\n",
    "print(div)\n",
    "print(residuo)\n",
    "print(potencia)\n",
    "print(cociente)"
   ]
  },
  {
   "cell_type": "code",
   "execution_count": 1,
   "id": "8d0ba62f",
   "metadata": {},
   "outputs": [
    {
     "name": "stdout",
     "output_type": "stream",
     "text": [
      "8\n"
     ]
    }
   ],
   "source": [
    "#5.2 Operadores de asignación\n",
    "#se tiene = , !=, -= ,+= , *= ,/=, **=\n",
    "num = 5\n",
    "num = num + 3\n",
    "print(num)\n"
   ]
  },
  {
   "cell_type": "code",
   "execution_count": 6,
   "id": "3e800d8e",
   "metadata": {},
   "outputs": [
    {
     "name": "stdout",
     "output_type": "stream",
     "text": [
      "8\n"
     ]
    }
   ],
   "source": [
    "#Lo mismo que la operacion anterior\n",
    "num = 5\n",
    "num +=3\n",
    "print(num)"
   ]
  },
  {
   "cell_type": "code",
   "execution_count": 5,
   "id": "8cd6fa65",
   "metadata": {},
   "outputs": [
    {
     "name": "stdout",
     "output_type": "stream",
     "text": [
      "2\n"
     ]
    }
   ],
   "source": [
    "num = 5\n",
    "num -=3\n",
    "print(num)"
   ]
  },
  {
   "cell_type": "code",
   "execution_count": 7,
   "id": "3a155bc6",
   "metadata": {},
   "outputs": [
    {
     "name": "stdout",
     "output_type": "stream",
     "text": [
      "125\n"
     ]
    }
   ],
   "source": [
    "num = 5\n",
    "num **=3\n",
    "print(num)"
   ]
  },
  {
   "cell_type": "code",
   "execution_count": 8,
   "id": "94d48dcc",
   "metadata": {},
   "outputs": [],
   "source": [
    "#5.3 Operadores de comparación\n",
    "#Se tiene: ==,!=, <,>, <=, >= "
   ]
  },
  {
   "cell_type": "code",
   "execution_count": 9,
   "id": "48908874",
   "metadata": {},
   "outputs": [
    {
     "data": {
      "text/plain": [
       "False"
      ]
     },
     "execution_count": 9,
     "metadata": {},
     "output_type": "execute_result"
    }
   ],
   "source": [
    "#Ejemplo de igualdad==\n",
    "num1 =5\n",
    "num2 =2\n",
    "num1 == num2"
   ]
  },
  {
   "cell_type": "code",
   "execution_count": 15,
   "id": "60063f92",
   "metadata": {},
   "outputs": [
    {
     "data": {
      "text/plain": [
       "False"
      ]
     },
     "execution_count": 15,
     "metadata": {},
     "output_type": "execute_result"
    }
   ],
   "source": [
    "#Ejemplo de == con cadenas\n",
    "nombre=\"Edgar\"\n",
    "apellido=\"Cusi\"\n",
    "nombre == apellido"
   ]
  },
  {
   "cell_type": "code",
   "execution_count": 16,
   "id": "1fcc4e5a",
   "metadata": {},
   "outputs": [],
   "source": [
    "#5.4 Operadores Lógicos\n",
    "#Se tiene and, or, not\n",
    "num1 = 5\n",
    "num2 = 6\n",
    "num3 = 7\n",
    "num4 = 9\n"
   ]
  },
  {
   "cell_type": "code",
   "execution_count": 17,
   "id": "f296249d",
   "metadata": {},
   "outputs": [
    {
     "data": {
      "text/plain": [
       "True"
      ]
     },
     "execution_count": 17,
     "metadata": {},
     "output_type": "execute_result"
    }
   ],
   "source": [
    "num1 < num2"
   ]
  },
  {
   "cell_type": "code",
   "execution_count": 19,
   "id": "e2f4eccc",
   "metadata": {},
   "outputs": [
    {
     "data": {
      "text/plain": [
       "False"
      ]
     },
     "execution_count": 19,
     "metadata": {},
     "output_type": "execute_result"
    }
   ],
   "source": [
    "#el not invierte el resultado\n",
    "not(num1 < num2)  "
   ]
  },
  {
   "cell_type": "code",
   "execution_count": 20,
   "id": "523c034f",
   "metadata": {},
   "outputs": [
    {
     "data": {
      "text/plain": [
       "True"
      ]
     },
     "execution_count": 20,
     "metadata": {},
     "output_type": "execute_result"
    }
   ],
   "source": [
    "num1 < num2 and  num3<num4"
   ]
  },
  {
   "cell_type": "code",
   "execution_count": 24,
   "id": "f76d4474",
   "metadata": {},
   "outputs": [
    {
     "data": {
      "text/plain": [
       "True"
      ]
     },
     "execution_count": 24,
     "metadata": {},
     "output_type": "execute_result"
    }
   ],
   "source": [
    "#Tambien puedes usar parentesis par ordenar los operadores\n",
    "(num1<num2 and num3<num4) or (num3>num4)"
   ]
  },
  {
   "cell_type": "code",
   "execution_count": 25,
   "id": "3e5460ac",
   "metadata": {},
   "outputs": [],
   "source": [
    "#5.5Operadores de pertenencia\n",
    "#in, not in"
   ]
  },
  {
   "cell_type": "code",
   "execution_count": 26,
   "id": "fdea4526",
   "metadata": {},
   "outputs": [],
   "source": [
    "#ejemplo\n",
    "aula=[\"juan\",\"daniel\",\"edgar\"]\n",
    "alumno1 = \"diego\"\n",
    "alumno2 = \"edgar\"\n",
    "alumno3 = \"emerson\"\n",
    "\n"
   ]
  },
  {
   "cell_type": "code",
   "execution_count": 31,
   "id": "dfae4948",
   "metadata": {},
   "outputs": [
    {
     "data": {
      "text/plain": [
       "False"
      ]
     },
     "execution_count": 31,
     "metadata": {},
     "output_type": "execute_result"
    }
   ],
   "source": [
    "#juan esta en el aula?\n",
    "alumno1 in aula"
   ]
  },
  {
   "cell_type": "code",
   "execution_count": 29,
   "id": "5ffba30c",
   "metadata": {},
   "outputs": [
    {
     "data": {
      "text/plain": [
       "True"
      ]
     },
     "execution_count": 29,
     "metadata": {},
     "output_type": "execute_result"
    }
   ],
   "source": [
    "#Diego esta en el aula?\n",
    "alumno2 in aula"
   ]
  },
  {
   "cell_type": "code",
   "execution_count": 34,
   "id": "1c1a36be",
   "metadata": {},
   "outputs": [
    {
     "data": {
      "text/plain": [
       "False"
      ]
     },
     "execution_count": 34,
     "metadata": {},
     "output_type": "execute_result"
    }
   ],
   "source": [
    "#Diego esta en el aula?\n",
    "alumno3 not in aula"
   ]
  },
  {
   "cell_type": "code",
   "execution_count": 35,
   "id": "bc2a1db3",
   "metadata": {},
   "outputs": [],
   "source": [
    "#5.6 Operadores de identidad\n",
    "#Se tiene is, is not"
   ]
  },
  {
   "cell_type": "code",
   "execution_count": 40,
   "id": "62dc33df",
   "metadata": {},
   "outputs": [],
   "source": [
    "aula1 = [\"juan\",\"daniel\",\"ruben\"]\n",
    "aula2 = [\"juan\",\"daniel\",\"ruben\"]\n",
    "#A continuacion aul 3 va a comprait el mism objeto de aula 2\n",
    "aula3 = aula1"
   ]
  },
  {
   "cell_type": "code",
   "execution_count": 41,
   "id": "4aa3e021",
   "metadata": {},
   "outputs": [
    {
     "data": {
      "text/plain": [
       "True"
      ]
     },
     "execution_count": 41,
     "metadata": {},
     "output_type": "execute_result"
    }
   ],
   "source": [
    "#¿aula 3 comporte stunadiates de aula 1?\n",
    "aula3 is aula1"
   ]
  },
  {
   "cell_type": "code",
   "execution_count": 42,
   "id": "49d5c141",
   "metadata": {},
   "outputs": [
    {
     "data": {
      "text/plain": [
       "False"
      ]
     },
     "execution_count": 42,
     "metadata": {},
     "output_type": "execute_result"
    }
   ],
   "source": [
    "aula3 is aula2"
   ]
  },
  {
   "cell_type": "code",
   "execution_count": 43,
   "id": "b7543836",
   "metadata": {},
   "outputs": [
    {
     "data": {
      "text/plain": [
       "False"
      ]
     },
     "execution_count": 43,
     "metadata": {},
     "output_type": "execute_result"
    }
   ],
   "source": [
    "aula2 is aula1"
   ]
  },
  {
   "cell_type": "code",
   "execution_count": 45,
   "id": "d0f8d744",
   "metadata": {},
   "outputs": [],
   "source": [
    "aula1.append(\"Diego\")"
   ]
  },
  {
   "cell_type": "code",
   "execution_count": 46,
   "id": "34b7978d",
   "metadata": {},
   "outputs": [
    {
     "name": "stdout",
     "output_type": "stream",
     "text": [
      "['juan', 'daniel', 'ruben', 'Diego']\n"
     ]
    }
   ],
   "source": [
    "#al imprimir los elementos de la lista aula1 se observa\n",
    "print(aula1)"
   ]
  },
  {
   "cell_type": "code",
   "execution_count": 47,
   "id": "f43ac49c",
   "metadata": {},
   "outputs": [
    {
     "name": "stdout",
     "output_type": "stream",
     "text": [
      "['juan', 'daniel', 'ruben', 'Diego']\n"
     ]
    }
   ],
   "source": [
    "print(aula3)"
   ]
  },
  {
   "cell_type": "code",
   "execution_count": null,
   "id": "1d3e5dca",
   "metadata": {},
   "outputs": [],
   "source": []
  }
 ],
 "metadata": {
  "kernelspec": {
   "display_name": "Python 3 (ipykernel)",
   "language": "python",
   "name": "python3"
  },
  "language_info": {
   "codemirror_mode": {
    "name": "ipython",
    "version": 3
   },
   "file_extension": ".py",
   "mimetype": "text/x-python",
   "name": "python",
   "nbconvert_exporter": "python",
   "pygments_lexer": "ipython3",
   "version": "3.9.7"
  }
 },
 "nbformat": 4,
 "nbformat_minor": 5
}
