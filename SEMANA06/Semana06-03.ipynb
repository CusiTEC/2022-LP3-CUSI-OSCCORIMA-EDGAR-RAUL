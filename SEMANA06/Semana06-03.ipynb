{
 "cells": [
  {
   "cell_type": "markdown",
   "id": "d6636e95",
   "metadata": {},
   "source": [
    "3. Funciones"
   ]
  },
  {
   "cell_type": "code",
   "execution_count": 1,
   "id": "79f3742b",
   "metadata": {},
   "outputs": [
    {
     "name": "stdout",
     "output_type": "stream",
     "text": [
      "Bienvenidos al curso de LP3\n",
      "**********PYTHON***********\n"
     ]
    }
   ],
   "source": [
    "#3.1 metodos vacios\n",
    "\n",
    "def saludo():\n",
    "    print(\"Bienvenidos al curso de LP3\")\n",
    "    print(\"**********PYTHON***********\")\n",
    "    \n",
    "saludo()"
   ]
  },
  {
   "cell_type": "code",
   "execution_count": 2,
   "id": "bb49199e",
   "metadata": {},
   "outputs": [],
   "source": [
    "#3.2 Metodos que reciben valores"
   ]
  },
  {
   "cell_type": "code",
   "execution_count": 3,
   "id": "ce4a1386",
   "metadata": {},
   "outputs": [],
   "source": [
    "def factorial(numero):\n",
    "    fac = 1\n",
    "    for i in range( 1 , numero + 1 ):\n",
    "        fac *=i\n",
    "        print(f\"El factorial es: {fac}\")"
   ]
  },
  {
   "cell_type": "code",
   "execution_count": 6,
   "id": "d5f5fcec",
   "metadata": {},
   "outputs": [
    {
     "name": "stdout",
     "output_type": "stream",
     "text": [
      "Ingrese el numero: 1\n",
      "El factorial es: 1\n"
     ]
    }
   ],
   "source": [
    "numero = int(input(\"Ingrese el numero: \"))\n",
    "factorial(numero)"
   ]
  },
  {
   "cell_type": "code",
   "execution_count": 7,
   "id": "8691ee43",
   "metadata": {},
   "outputs": [],
   "source": [
    "# 3.3 metodos que devuelven valores\n",
    "def saludo2():\n",
    "    mensaje = \"Bienvenido a LP3\"\n",
    "    return mensaje"
   ]
  },
  {
   "cell_type": "code",
   "execution_count": 8,
   "id": "cc163ff7",
   "metadata": {},
   "outputs": [
    {
     "name": "stdout",
     "output_type": "stream",
     "text": [
      "Bienvenido a LP3\n"
     ]
    }
   ],
   "source": [
    "print(saludo2())"
   ]
  },
  {
   "cell_type": "code",
   "execution_count": 9,
   "id": "10a56d9c",
   "metadata": {},
   "outputs": [],
   "source": [
    "#metodos que recibe y devuelven valores\n",
    "\n",
    "def factorial2(numero):\n",
    "    fac = 1\n",
    "    for i in range(1,numero+1):\n",
    "        fac*=i\n",
    "    return fac"
   ]
  },
  {
   "cell_type": "code",
   "execution_count": 11,
   "id": "b7e6a639",
   "metadata": {},
   "outputs": [
    {
     "name": "stdout",
     "output_type": "stream",
     "text": [
      "numero: 5\n",
      "El factorial de 5 es 120\n"
     ]
    }
   ],
   "source": [
    "numero = int(input(\"numero: \"))\n",
    "print(f\"El factorial de { numero} es {factorial2(numero)}\")"
   ]
  },
  {
   "cell_type": "code",
   "execution_count": 12,
   "id": "9abfc049",
   "metadata": {},
   "outputs": [],
   "source": [
    "#otro ejemplo"
   ]
  },
  {
   "cell_type": "code",
   "execution_count": 13,
   "id": "3462385a",
   "metadata": {},
   "outputs": [],
   "source": [
    "#calcular el igv\n",
    "\n",
    "def obtenerigv(importe):\n",
    "    return importe*0.19"
   ]
  },
  {
   "cell_type": "code",
   "execution_count": 14,
   "id": "57191549",
   "metadata": {},
   "outputs": [
    {
     "data": {
      "text/plain": [
       "28.5"
      ]
     },
     "execution_count": 14,
     "metadata": {},
     "output_type": "execute_result"
    }
   ],
   "source": [
    "obtenerigv(150)"
   ]
  },
  {
   "cell_type": "code",
   "execution_count": 15,
   "id": "6e873170",
   "metadata": {},
   "outputs": [
    {
     "data": {
      "text/plain": [
       "140"
      ]
     },
     "execution_count": 15,
     "metadata": {},
     "output_type": "execute_result"
    }
   ],
   "source": [
    "factorial2(5) + 20"
   ]
  },
  {
   "cell_type": "code",
   "execution_count": null,
   "id": "12798c37",
   "metadata": {},
   "outputs": [],
   "source": []
  }
 ],
 "metadata": {
  "kernelspec": {
   "display_name": "Python 3 (ipykernel)",
   "language": "python",
   "name": "python3"
  },
  "language_info": {
   "codemirror_mode": {
    "name": "ipython",
    "version": 3
   },
   "file_extension": ".py",
   "mimetype": "text/x-python",
   "name": "python",
   "nbconvert_exporter": "python",
   "pygments_lexer": "ipython3",
   "version": "3.9.7"
  }
 },
 "nbformat": 4,
 "nbformat_minor": 5
}
