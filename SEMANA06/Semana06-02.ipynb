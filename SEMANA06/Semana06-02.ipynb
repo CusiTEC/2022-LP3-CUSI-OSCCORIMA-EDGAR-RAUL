{
 "cells": [
  {
   "cell_type": "markdown",
   "id": "80f11871",
   "metadata": {},
   "source": [
    "# TEMAS\n",
    "1. Coleccion de datos\n",
    "2. Estructuras Decisivas y Estructuras repetitivas\n",
    "3. Funciones\n",
    "4. Clase y Objetos"
   ]
  },
  {
   "cell_type": "markdown",
   "id": "3d011be3",
   "metadata": {},
   "source": [
    "2. Estructuras Decisivas y Estructuras repetitivas\n"
   ]
  },
  {
   "cell_type": "code",
   "execution_count": 2,
   "id": "91b3f2c8",
   "metadata": {},
   "outputs": [],
   "source": [
    "#if\n",
    "#problema: daod el precio de 3 porductos ingreasdo aplicar el descuentoi del 10% si la venta es mayor o igualk a 1000\n"
   ]
  },
  {
   "cell_type": "code",
   "execution_count": 7,
   "id": "6a194653",
   "metadata": {},
   "outputs": [
    {
     "name": "stdout",
     "output_type": "stream",
     "text": [
      "Producto1: 12\n",
      "Producto1: 900\n",
      "Producto1: 13\n",
      "Total a pagar es:  925.0\n"
     ]
    }
   ],
   "source": [
    "#solucion\n",
    "p1 = float(input(\"Producto1: \"))\n",
    "p2 = float(input(\"Producto1: \"))\n",
    "p3 = float(input(\"Producto1: \"))\n",
    "total = p1+p2+p3\n",
    "if total >=1000:\n",
    "    total*=0.9\n",
    "    \n",
    "print(f\"Total a pagar es:  {total}\")"
   ]
  },
  {
   "cell_type": "code",
   "execution_count": 9,
   "id": "60c9d0bb",
   "metadata": {},
   "outputs": [
    {
     "data": {
      "text/plain": [
       "['ALANYA',\n",
       " 'ALVA',\n",
       " 'AZAÑERO',\n",
       " 'CARRASCO',\n",
       " 'CCACCYA',\n",
       " 'COSME',\n",
       " 'CUSI',\n",
       " 'DIAZ',\n",
       " 'FLORES',\n",
       " 'GOMEZ',\n",
       " 'GOMEZ',\n",
       " 'GRANADOS',\n",
       " 'HUANCAS',\n",
       " 'JULCA',\n",
       " 'LAURA',\n",
       " 'MOTTA',\n",
       " 'PINEDO',\n",
       " 'PONCE',\n",
       " 'QUINTANA',\n",
       " 'RODRIGUEZ',\n",
       " 'SERNA',\n",
       " 'VILCA',\n",
       " 'YAURICASA']"
      ]
     },
     "execution_count": 9,
     "metadata": {},
     "output_type": "execute_result"
    }
   ],
   "source": [
    "#1.5 Ejercicio:\n",
    "#Dado una lista de [] diseñar un codigo que muestre si el apellido de un\n",
    "# estudiante (ingreso por teclado forma parte de lista)\n",
    "LP3 = [\"ALANYA\", \"ALVA\", \"AZAÑERO\", \"CARRASCO\", \"CCACCYA\", \"COSME\", \"CUSI\", \"DIAZ\", \"FLORES\", \"GOMEZ\", \"GOMEZ\", \"GRANADOS\", \"HUANCAS\", \"JULCA\", \"LAURA\",\"MOTTA\",\"PINEDO\",\"PONCE\",\"QUINTANA\",\"RODRIGUEZ\",\"SERNA\",\"VILCA\",\"YAURICASA\"]\n",
    "LP3"
   ]
  },
  {
   "cell_type": "code",
   "execution_count": 13,
   "id": "74e33457",
   "metadata": {},
   "outputs": [
    {
     "name": "stdout",
     "output_type": "stream",
     "text": [
      "Ingrese un apellido :cusi\n",
      "El apellido cusi esta en la lista\n"
     ]
    }
   ],
   "source": [
    "apellido = input(\"Ingrese un apellido :\")\n",
    "if (apellido.upper() in LP3):\n",
    "    print(\"El apellido \" + apellido +\" esta en la lista\")\n",
    "else:\n",
    "    print(\"El apellido no esta en la lista\")"
   ]
  },
  {
   "cell_type": "code",
   "execution_count": 22,
   "id": "4bd4a4f2",
   "metadata": {},
   "outputs": [
    {
     "name": "stdout",
     "output_type": "stream",
     "text": [
      "Ingrese importe total de ventas: 400\n",
      "El empleado es de la categoria A\n"
     ]
    }
   ],
   "source": [
    "#Problema 02\n",
    "#Dado el importe total de ventas realizadas por un trabajador (ingresado por teclado,)\n",
    "#categorizar qu tipo de empleado es, considerado la siguiete tabla:\n",
    "\n",
    "#categoria A -> [0,1000]\n",
    "#categoria B -> <1000,2000]\n",
    "#categoria C -> <2000,5000]\n",
    "#categoria D -> 5000,a mas]\n",
    "\n",
    "importe = int(input(\"Ingrese importe total de ventas: \"))\n",
    "if(importe >0 and importe <= 1000):\n",
    "    print(\"El empleado es de la categoria A\")\n",
    "if(importe > 1000 and importe <= 2000):\n",
    "    print(\"El empleado es de la categoria B\")\n",
    "if(importe > 2000 and importe <= 5000):\n",
    "    print(\"El empleado es de la categoria C\")\n",
    "if(importe > 5000 ):\n",
    "    print(\"El empleado es de la categoria D\")\n",
    "    "
   ]
  },
  {
   "cell_type": "code",
   "execution_count": 25,
   "id": "c8f07864",
   "metadata": {},
   "outputs": [
    {
     "name": "stdout",
     "output_type": "stream",
     "text": [
      "Ingrese importe total de ventas: 2188\n",
      "El empleado es de la categoria C\n"
     ]
    }
   ],
   "source": [
    "#elif\n",
    "#Problema 03\n",
    "#Dado el importe total de ventas realizadas por un trabajador (ingresado por teclado,)\n",
    "#categorizar qu tipo de empleado es, considerado la siguiete tabla:\n",
    "\n",
    "#categoria A -> [0,1000]\n",
    "#categoria B -> <1000,2000]\n",
    "#categoria C -> <2000,5000]\n",
    "#categoria D -> 5000,a mas]\n",
    "\n",
    "importe = int(input(\"Ingrese importe total de ventas: \"))\n",
    "if(importe >0 and importe <= 1000):\n",
    "    print(\"El empleado es de la categoria A\")\n",
    "elif(importe > 1000 and importe <= 2000):\n",
    "    print(\"El empleado es de la categoria B\")\n",
    "elif(importe > 2000 and importe <= 5000):\n",
    "    print(\"El empleado es de la categoria C\")\n",
    "elif(importe > 5000 ):\n",
    "    print(\"El empleado es de la categoria D\")"
   ]
  },
  {
   "cell_type": "code",
   "execution_count": 26,
   "id": "e0e00125",
   "metadata": {},
   "outputs": [],
   "source": [
    "# Estructuras Decisivas y Estructuras repetitivas\n"
   ]
  },
  {
   "cell_type": "code",
   "execution_count": 27,
   "id": "b188fc46",
   "metadata": {},
   "outputs": [
    {
     "name": "stdout",
     "output_type": "stream",
     "text": [
      "Granados\n",
      "Alva\n",
      "Laura\n",
      "Yauricasa\n"
     ]
    }
   ],
   "source": [
    "#for\n",
    "#PROBLEMA 01:\n",
    "#mostar elemntos de una lista utilizando for\n",
    "#solucion\n",
    "aula = {'Yauricasa','Granados','Alva','Laura'}\n",
    "#Por cada alumno imprimir\n",
    "for alumno in aula:\n",
    "    print(alumno)"
   ]
  },
  {
   "cell_type": "code",
   "execution_count": 29,
   "id": "ff57ba96",
   "metadata": {},
   "outputs": [
    {
     "name": "stdout",
     "output_type": "stream",
     "text": [
      "Ingrese cadena: anitalavalatina\n",
      "a\n",
      "n\n",
      "i\n",
      "t\n",
      "a\n",
      "l\n",
      "a\n",
      "v\n",
      "a\n",
      "l\n",
      "a\n",
      "t\n",
      "i\n",
      "n\n",
      "a\n"
     ]
    }
   ],
   "source": [
    "#Problema 02\n",
    "#Dado una cadena ingresado por teclado, mostrar cada caracter de la cadena, utilizando la estructura for\n",
    "cadena = input(\"Ingrese cadena: \")\n",
    "for caracter in cadena:\n",
    "    print(caracter)"
   ]
  },
  {
   "cell_type": "code",
   "execution_count": 30,
   "id": "e5c252d8",
   "metadata": {},
   "outputs": [
    {
     "data": {
      "text/plain": [
       "range(0, 5)"
      ]
     },
     "execution_count": 30,
     "metadata": {},
     "output_type": "execute_result"
    }
   ],
   "source": [
    "#Para genr ranos de los numeros range()\n",
    "range(5)"
   ]
  },
  {
   "cell_type": "code",
   "execution_count": 36,
   "id": "faefb684",
   "metadata": {},
   "outputs": [
    {
     "name": "stdout",
     "output_type": "stream",
     "text": [
      "1\n",
      "2\n",
      "3\n",
      "4\n",
      "5\n",
      "6\n",
      "7\n",
      "8\n",
      "9\n",
      "10\n"
     ]
    }
   ],
   "source": [
    "#imprimir los numeor de 0 a 10\n",
    "numero = range(10)\n",
    "for i in numero:\n",
    "    print(i)"
   ]
  },
  {
   "cell_type": "code",
   "execution_count": 40,
   "id": "e42b4a46",
   "metadata": {},
   "outputs": [
    {
     "name": "stdout",
     "output_type": "stream",
     "text": [
      "10\n",
      "12\n",
      "14\n",
      "16\n",
      "18\n",
      "20\n"
     ]
    }
   ],
   "source": [
    "#imprimir los numeros de 10 a 20 , utilizando for\n",
    "for numero in range(10,22,2):\n",
    "    print(numero)"
   ]
  },
  {
   "cell_type": "code",
   "execution_count": 46,
   "id": "893991e8",
   "metadata": {},
   "outputs": [
    {
     "name": "stdout",
     "output_type": "stream",
     "text": [
      "[10, 20, 5, -10, 100, 0, 50, 17, 2000, -1000, 0]\n",
      "[-1000, -10, 0, 0, 5, 10, 17, 20, 50, 100, 2000]\n"
     ]
    }
   ],
   "source": [
    "A=[10,20,5,-10,100, 0, 50, 17, 2000,-1000,0]\n",
    "print(A)\n",
    "\n",
    "for i in range(1,len(A)):\n",
    "        for j in range(0,len(A)-i):\n",
    "            if(A[j+1] < A[j]):\n",
    "                temp=A[j]\n",
    "                A[j]=A[j+1]\n",
    "                A[j+1]=temp\n",
    "                \n",
    "print(A)"
   ]
  },
  {
   "cell_type": "code",
   "execution_count": 48,
   "id": "46cf0589",
   "metadata": {},
   "outputs": [],
   "source": [
    "#while\n",
    "#permite ejecutar un conjunto de accioens mientras se cumpla una condicion\n"
   ]
  },
  {
   "cell_type": "code",
   "execution_count": 49,
   "id": "a73aa936",
   "metadata": {},
   "outputs": [
    {
     "ename": "SyntaxError",
     "evalue": "invalid syntax (Temp/ipykernel_9612/2487569655.py, line 3)",
     "output_type": "error",
     "traceback": [
      "\u001b[1;36m  File \u001b[1;32m\"C:\\Users\\usuario\\AppData\\Local\\Temp/ipykernel_9612/2487569655.py\"\u001b[1;36m, line \u001b[1;32m3\u001b[0m\n\u001b[1;33m    while numero\u001b[0m\n\u001b[1;37m                ^\u001b[0m\n\u001b[1;31mSyntaxError\u001b[0m\u001b[1;31m:\u001b[0m invalid syntax\n"
     ]
    }
   ],
   "source": [
    "numero = 1\n",
    "fin = 10\n",
    "while numero"
   ]
  },
  {
   "cell_type": "code",
   "execution_count": null,
   "id": "8314d29b",
   "metadata": {},
   "outputs": [],
   "source": []
  }
 ],
 "metadata": {
  "kernelspec": {
   "display_name": "Python 3 (ipykernel)",
   "language": "python",
   "name": "python3"
  },
  "language_info": {
   "codemirror_mode": {
    "name": "ipython",
    "version": 3
   },
   "file_extension": ".py",
   "mimetype": "text/x-python",
   "name": "python",
   "nbconvert_exporter": "python",
   "pygments_lexer": "ipython3",
   "version": "3.9.7"
  }
 },
 "nbformat": 4,
 "nbformat_minor": 5
}
