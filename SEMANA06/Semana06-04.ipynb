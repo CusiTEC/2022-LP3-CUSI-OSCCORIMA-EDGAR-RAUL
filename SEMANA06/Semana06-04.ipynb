{
 "cells": [
  {
   "cell_type": "markdown",
   "id": "c33b8286",
   "metadata": {},
   "source": [
    "# SEMANA 06\n",
    "Temas\n",
    "1.colecciones de datos\n",
    "2. Estructuras repetitvas\n"
   ]
  },
  {
   "cell_type": "markdown",
   "id": "f273ffc2",
   "metadata": {},
   "source": [
    "4. Clases y objetos"
   ]
  },
  {
   "cell_type": "code",
   "execution_count": 1,
   "id": "42cb42ee",
   "metadata": {},
   "outputs": [],
   "source": [
    "#problema 01\n",
    "\n",
    "#crear la siguiente clase\n",
    "# clase: persona\n",
    "#atirbuto: nombre, apellido, talla, dni\n",
    "class Persona:\n",
    "    nombre = \"\"\n",
    "    apellido = \"\"\n",
    "    dni = \"\"\n",
    "    edad = 0"
   ]
  },
  {
   "cell_type": "code",
   "execution_count": 2,
   "id": "17ba5fa7",
   "metadata": {},
   "outputs": [
    {
     "name": "stdout",
     "output_type": "stream",
     "text": [
      "persona1\n",
      "Nombre: Edgar\n",
      "Apellido: Cusi\n",
      "DNI: 72471892\n",
      "Edad: 19\n"
     ]
    }
   ],
   "source": [
    "#Crear un objeto persona1 de la clase persona() y le asignamos valores \n",
    "#Creacion del objeto persona1\n",
    "\n",
    "persona1 = Persona()\n",
    "#asignamos valores al objeto\n",
    "persona1.nombre = \"Edgar\"\n",
    "persona1.apellido = \"Cusi\"\n",
    "persona1.dni = \"72471892\"\n",
    "persona1.edad = 19\n",
    "\n",
    "#mostrar valores del objeto\n",
    "print(\"persona1\")\n",
    "print(f\"Nombre: {persona1.nombre}\")\n",
    "print(f\"Apellido: {persona1.apellido}\")\n",
    "print(f\"DNI: {persona1.dni}\")\n",
    "print(f\"Edad: {persona1.edad}\")\n"
   ]
  },
  {
   "cell_type": "code",
   "execution_count": 3,
   "id": "0ad2ceaf",
   "metadata": {},
   "outputs": [],
   "source": [
    "#Para utilizar cosntructores utilizamos: __init__\n",
    "#¿que es un constructor?\n",
    "#es un metodo que sirve para inicializar variables a una clase"
   ]
  },
  {
   "cell_type": "code",
   "execution_count": 4,
   "id": "2c02e1b8",
   "metadata": {},
   "outputs": [],
   "source": [
    "#Problema02:\n",
    "#crear las siguiente clase y utlizar constructores\n",
    "#clase: curso\n",
    "#atrbutos codugo, nobre , horas ,credtos    "
   ]
  },
  {
   "cell_type": "code",
   "execution_count": 20,
   "id": "311248bf",
   "metadata": {},
   "outputs": [],
   "source": [
    "class Curso:\n",
    "    def __init__(self,codigo,nombre,horas,creditos):\n",
    "        self.codigo = codigo\n",
    "        self.nombre = nombre\n",
    "        self.horas = horas\n",
    "        self.creditos = creditos\n",
    "        \n",
    "    def mostrar_datos_curso(self):\n",
    "        print(f\"Curso: {self.nombre}\")\n",
    "        print(f\"Codigo: {self.codigo}\")\n",
    "        print(f\"Horas: {self.horas}\")\n",
    "        print(f\"Creditos: {self.creditos}\")\n",
    "        "
   ]
  },
  {
   "cell_type": "code",
   "execution_count": 21,
   "id": "5b1137cb",
   "metadata": {},
   "outputs": [],
   "source": [
    "#Creamos el obejto curso1 y le mandamos parametros\n",
    "curso1 = Curso(\"c0501\",\"Lp3\",6,3)"
   ]
  },
  {
   "cell_type": "code",
   "execution_count": 22,
   "id": "d6593056",
   "metadata": {},
   "outputs": [
    {
     "name": "stdout",
     "output_type": "stream",
     "text": [
      "Curso: Lp3\n",
      "Codigo: c0501\n",
      "Horas: 6\n",
      "Creditos: 3\n"
     ]
    }
   ],
   "source": [
    "curso1.mostrar_datos_curso()"
   ]
  },
  {
   "cell_type": "code",
   "execution_count": null,
   "id": "1459edd7",
   "metadata": {},
   "outputs": [],
   "source": []
  }
 ],
 "metadata": {
  "kernelspec": {
   "display_name": "Python 3 (ipykernel)",
   "language": "python",
   "name": "python3"
  },
  "language_info": {
   "codemirror_mode": {
    "name": "ipython",
    "version": 3
   },
   "file_extension": ".py",
   "mimetype": "text/x-python",
   "name": "python",
   "nbconvert_exporter": "python",
   "pygments_lexer": "ipython3",
   "version": "3.9.7"
  }
 },
 "nbformat": 4,
 "nbformat_minor": 5
}
