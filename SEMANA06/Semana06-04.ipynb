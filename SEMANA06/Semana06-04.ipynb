{
 "cells": [
  {
   "cell_type": "markdown",
   "id": "51b34faf",
   "metadata": {},
   "source": [
    "# SEMANA 06\n",
    "Temas\n",
    "1.colecciones de datos\n",
    "2. Estructuras repetitvas\n"
   ]
  },
  {
   "cell_type": "markdown",
   "id": "78da2f7c",
   "metadata": {},
   "source": [
    "4. Clases y objetos"
   ]
  },
  {
   "cell_type": "code",
   "execution_count": 1,
   "id": "744e2f4e",
   "metadata": {},
   "outputs": [],
   "source": [
    "#problema 01\n",
    "\n",
    "#crear la siguiente clase\n",
    "# clase: persona\n",
    "#atirbuto: nombre, apellido, talla, dni\n",
    "class Persona:\n",
    "    nombre = \"\"\n",
    "    apellido = \"\"\n",
    "    dni = \"\"\n",
    "    edad = 0"
   ]
  },
  {
   "cell_type": "code",
   "execution_count": 2,
   "id": "b32d3a47",
   "metadata": {},
   "outputs": [
    {
     "name": "stdout",
     "output_type": "stream",
     "text": [
      "persona1\n",
      "Nombre: Edgar\n",
      "Apellido: Cusi\n",
      "DNI: 72471892\n",
      "Edad: 19\n"
     ]
    }
   ],
   "source": [
    "#Crear un objeto persona1 de la clase persona() y le asignamos valores \n",
    "#Creacion del objeto persona1\n",
    "\n",
    "persona1 = Persona()\n",
    "#asignamos valores al objeto\n",
    "persona1.nombre = \"Edgar\"\n",
    "persona1.apellido = \"Cusi\"\n",
    "persona1.dni = \"72471892\"\n",
    "persona1.edad = 19\n",
    "\n",
    "#mostrar valores del objeto\n",
    "print(\"persona1\")\n",
    "print(f\"Nombre: {persona1.nombre}\")\n",
    "print(f\"Apellido: {persona1.apellido}\")\n",
    "print(f\"DNI: {persona1.dni}\")\n",
    "print(f\"Edad: {persona1.edad}\")\n"
   ]
  },
  {
   "cell_type": "code",
   "execution_count": 3,
   "id": "3f16415d",
   "metadata": {},
   "outputs": [],
   "source": [
    "#Para utilizar cosntructores utilizamos: __init__\n",
    "#¿que es un constructor?\n",
    "#es un metodo que sirve para inicializar variables a una clase"
   ]
  },
  {
   "cell_type": "code",
   "execution_count": 4,
   "id": "23bfa1a7",
   "metadata": {},
   "outputs": [],
   "source": [
    "#Problema02:\n",
    "#crear las siguiente clase y utlizar constructores\n",
    "#clase: curso\n",
    "#atrbutos codugo, nobre , horas ,credtos    "
   ]
  },
  {
   "cell_type": "code",
   "execution_count": 14,
   "id": "dfec5483",
   "metadata": {},
   "outputs": [],
   "source": [
    "class Curso:\n",
    "    def __init__(self,codigo,nombre,horas,creditos):\n",
    "        self.codigo = codigo\n",
    "        self.nombre = nombre\n",
    "        self.horas = horas\n",
    "        self.creditos = creditos\n",
    "        \n",
    "    def mostrar_datos_curso(self):\n",
    "        print(f\"Curso: {self.nombre}\")\n",
    "        print(f\"Codigo: {self.horas}\")\n",
    "        print(f\"Horas: {self.codigo}\")\n",
    "        print(f\"Cred: {self.creditos}\")\n",
    "        "
   ]
  },
  {
   "cell_type": "code",
   "execution_count": 15,
   "id": "d8435418",
   "metadata": {},
   "outputs": [],
   "source": [
    "#Creamos el obejto curso1 y le mandamos parametros\n",
    "curso1 = Curso(\"c0501\",\"Lp3\",6,3)"
   ]
  },
  {
   "cell_type": "code",
   "execution_count": 16,
   "id": "babc26db",
   "metadata": {},
   "outputs": [
    {
     "name": "stdout",
     "output_type": "stream",
     "text": [
      "Curso: Lp3\n",
      "Curso: 6\n",
      "Curso: c0501\n",
      "Curso: 3\n"
     ]
    }
   ],
   "source": [
    "curso1.mostrar_datos_curso()"
   ]
  },
  {
   "cell_type": "code",
   "execution_count": null,
   "id": "2f7b401e",
   "metadata": {},
   "outputs": [],
   "source": []
  }
 ],
 "metadata": {
  "kernelspec": {
   "display_name": "Python 3 (ipykernel)",
   "language": "python",
   "name": "python3"
  },
  "language_info": {
   "codemirror_mode": {
    "name": "ipython",
    "version": 3
   },
   "file_extension": ".py",
   "mimetype": "text/x-python",
   "name": "python",
   "nbconvert_exporter": "python",
   "pygments_lexer": "ipython3",
   "version": "3.9.7"
  }
 },
 "nbformat": 4,
 "nbformat_minor": 5
}
