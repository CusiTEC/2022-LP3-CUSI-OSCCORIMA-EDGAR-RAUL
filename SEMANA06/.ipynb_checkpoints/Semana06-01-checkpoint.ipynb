{
 "cells": [
  {
   "cell_type": "markdown",
   "id": "4b97c9cd",
   "metadata": {},
   "source": [
    "# SEMANA 06\n",
    "EDGAR RAUL CUSI OSCCORIMA"
   ]
  },
  {
   "cell_type": "markdown",
   "id": "7be3beff",
   "metadata": {},
   "source": [
    "1.Colecciones de datos"
   ]
  },
  {
   "cell_type": "code",
   "execution_count": null,
   "id": "b91b0dba",
   "metadata": {},
   "outputs": [],
   "source": [
    "#1.1. Listas\n",
    "#Es una coleccion de elementos que pueden ser ordenados, modificados, etc.\n",
    "#Se identifica por los corchetes que muestra la lista"
   ]
  }
 ],
 "metadata": {
  "kernelspec": {
   "display_name": "Python 3 (ipykernel)",
   "language": "python",
   "name": "python3"
  },
  "language_info": {
   "codemirror_mode": {
    "name": "ipython",
    "version": 3
   },
   "file_extension": ".py",
   "mimetype": "text/x-python",
   "name": "python",
   "nbconvert_exporter": "python",
   "pygments_lexer": "ipython3",
   "version": "3.9.7"
  }
 },
 "nbformat": 4,
 "nbformat_minor": 5
}
