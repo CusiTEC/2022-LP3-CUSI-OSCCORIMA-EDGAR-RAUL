{
 "cells": [
  {
   "cell_type": "markdown",
   "id": "4b97c9cd",
   "metadata": {},
   "source": [
    "# SEMANA 06\n",
    "EDGAR RAUL CUSI OSCCORIMA"
   ]
  },
  {
   "cell_type": "markdown",
   "id": "7be3beff",
   "metadata": {},
   "source": [
    "1.Colecciones de datos"
   ]
  },
  {
   "cell_type": "code",
   "execution_count": 26,
   "id": "b91b0dba",
   "metadata": {},
   "outputs": [
    {
     "name": "stdout",
     "output_type": "stream",
     "text": [
      "['Cusi', 'Gomez', 'Granados', 'Laura']\n"
     ]
    }
   ],
   "source": [
    "#1.1. Listas\n",
    "#Es una coleccion de elementos que pueden ser ordenados, modificados, etc.\n",
    "#Se identifica por los corchetes que muestra la lista\n",
    "#Ejemplo\n",
    "aula = ['Cusi','Gomez','Granados','Laura']\n",
    "print(aula)"
   ]
  },
  {
   "cell_type": "code",
   "execution_count": 27,
   "id": "4444a67a",
   "metadata": {},
   "outputs": [
    {
     "data": {
      "text/plain": [
       "['Cusi', 'Gomez', 'Granados', 'Laura']"
      ]
     },
     "execution_count": 27,
     "metadata": {},
     "output_type": "execute_result"
    }
   ],
   "source": [
    "aula"
   ]
  },
  {
   "cell_type": "code",
   "execution_count": 28,
   "id": "51577119",
   "metadata": {},
   "outputs": [
    {
     "name": "stdout",
     "output_type": "stream",
     "text": [
      "Cusi\n",
      "Gomez\n"
     ]
    }
   ],
   "source": [
    "#Podemos extraer cada elemento por su posición\n",
    "print(aula[0])\n",
    "print(aula[1])"
   ]
  },
  {
   "cell_type": "code",
   "execution_count": 29,
   "id": "5f606914",
   "metadata": {},
   "outputs": [
    {
     "name": "stdout",
     "output_type": "stream",
     "text": [
      "Quintana\n"
     ]
    }
   ],
   "source": [
    "#Puedo asignar un valor a una posicion de la lista\n",
    "aula[3] = 'Quintana'\n",
    "print(aula[3])"
   ]
  },
  {
   "cell_type": "code",
   "execution_count": 30,
   "id": "596f1f1c",
   "metadata": {},
   "outputs": [
    {
     "data": {
      "text/plain": [
       "['Cusi', 'Gomez', 'Granados', 'Quintana']"
      ]
     },
     "execution_count": 30,
     "metadata": {},
     "output_type": "execute_result"
    }
   ],
   "source": [
    "#Mostramos como quedó la lista\n",
    "aula"
   ]
  },
  {
   "cell_type": "code",
   "execution_count": 31,
   "id": "46a94591",
   "metadata": {},
   "outputs": [
    {
     "data": {
      "text/plain": [
       "['Cusi', 'Gomez', 'Granados', 'Quintana', 'Laura']"
      ]
     },
     "execution_count": 31,
     "metadata": {},
     "output_type": "execute_result"
    }
   ],
   "source": [
    "#Para agregar un elemento usamos la funcion append\n",
    "aula.append('Laura')\n",
    "aula"
   ]
  },
  {
   "cell_type": "code",
   "execution_count": 32,
   "id": "7538e23b",
   "metadata": {},
   "outputs": [
    {
     "data": {
      "text/plain": [
       "['Cusi', 'Gomez', 'Granados', 'Laura']"
      ]
     },
     "execution_count": 32,
     "metadata": {},
     "output_type": "execute_result"
    }
   ],
   "source": [
    "#Para elminar elementos de ua lista utilizamos remove[]\n",
    "aula.remove('Quintana')\n",
    "aula"
   ]
  },
  {
   "cell_type": "code",
   "execution_count": 33,
   "id": "1f15cea9",
   "metadata": {},
   "outputs": [],
   "source": [
    "#Si hubiera varios elementos de valores iguales se elimina la primera coicidencia\n",
    "aula.append('Gomez')"
   ]
  },
  {
   "cell_type": "code",
   "execution_count": 34,
   "id": "2990c37c",
   "metadata": {},
   "outputs": [
    {
     "data": {
      "text/plain": [
       "['Cusi', 'Gomez', 'Granados', 'Laura', 'Gomez']"
      ]
     },
     "execution_count": 34,
     "metadata": {},
     "output_type": "execute_result"
    }
   ],
   "source": [
    "aula"
   ]
  },
  {
   "cell_type": "code",
   "execution_count": 35,
   "id": "4fbf060d",
   "metadata": {},
   "outputs": [],
   "source": [
    "aula.remove('Gomez')"
   ]
  },
  {
   "cell_type": "code",
   "execution_count": 36,
   "id": "307493db",
   "metadata": {},
   "outputs": [
    {
     "data": {
      "text/plain": [
       "['Cusi', 'Granados', 'Laura', 'Gomez']"
      ]
     },
     "execution_count": 36,
     "metadata": {},
     "output_type": "execute_result"
    }
   ],
   "source": [
    "aula"
   ]
  },
  {
   "cell_type": "code",
   "execution_count": 37,
   "id": "9f368e9c",
   "metadata": {},
   "outputs": [
    {
     "data": {
      "text/plain": [
       "4"
      ]
     },
     "execution_count": 37,
     "metadata": {},
     "output_type": "execute_result"
    }
   ],
   "source": [
    "#Para obtener el tamaño que utilizamos len()\n",
    "len(aula)"
   ]
  },
  {
   "cell_type": "code",
   "execution_count": 38,
   "id": "979f0dcd",
   "metadata": {},
   "outputs": [
    {
     "data": {
      "text/plain": [
       "['Cusi', 'Granados', 'Laura']"
      ]
     },
     "execution_count": 38,
     "metadata": {},
     "output_type": "execute_result"
    }
   ],
   "source": [
    "#Eliminar por indice\n",
    "aula.remove(aula[3])\n",
    "aula"
   ]
  },
  {
   "cell_type": "code",
   "execution_count": 39,
   "id": "a8d28fc4",
   "metadata": {},
   "outputs": [
    {
     "data": {
      "text/plain": [
       "['Cusi', 'Granados']"
      ]
     },
     "execution_count": 39,
     "metadata": {},
     "output_type": "execute_result"
    }
   ],
   "source": [
    "aula.pop(2)\n",
    "aula"
   ]
  },
  {
   "cell_type": "code",
   "execution_count": 40,
   "id": "0826311b",
   "metadata": {},
   "outputs": [
    {
     "name": "stdout",
     "output_type": "stream",
     "text": [
      "Cusi\n",
      "Granados\n"
     ]
    }
   ],
   "source": [
    "for alumno in aula:\n",
    "    print(alumno)"
   ]
  },
  {
   "cell_type": "code",
   "execution_count": 41,
   "id": "14805b90",
   "metadata": {},
   "outputs": [
    {
     "data": {
      "text/plain": [
       "['Cusi', 'Granados', 'Vilca', 'Gomez']"
      ]
     },
     "execution_count": 41,
     "metadata": {},
     "output_type": "execute_result"
    }
   ],
   "source": [
    "aula.append('Vilca')\n",
    "aula.append('Gomez')\n",
    "aula"
   ]
  },
  {
   "cell_type": "code",
   "execution_count": 42,
   "id": "47b7df5c",
   "metadata": {},
   "outputs": [
    {
     "name": "stdout",
     "output_type": "stream",
     "text": [
      "Cusi\n",
      "Granados\n",
      "Vilca\n",
      "Gomez\n"
     ]
    }
   ],
   "source": [
    "for alumno in aula:\n",
    "    print(alumno)"
   ]
  },
  {
   "cell_type": "code",
   "execution_count": 45,
   "id": "d846bd04",
   "metadata": {},
   "outputs": [
    {
     "data": {
      "text/plain": [
       "['Gomez', 'Vilca', 'Granados', 'Cusi']"
      ]
     },
     "execution_count": 45,
     "metadata": {},
     "output_type": "execute_result"
    }
   ],
   "source": [
    "#Para invertur la lista utilizamos reverse\n",
    "#Invertir no signifca ordenar\n",
    "aula.reverse()\n",
    "aula"
   ]
  },
  {
   "cell_type": "code",
   "execution_count": 46,
   "id": "13712a3d",
   "metadata": {},
   "outputs": [
    {
     "data": {
      "text/plain": [
       "['Cusi', 'Gomez', 'Granados', 'Vilca']"
      ]
     },
     "execution_count": 46,
     "metadata": {},
     "output_type": "execute_result"
    }
   ],
   "source": [
    "#Para ordenar alfabeticamente utilizamos sort()\n",
    "aula.sort()\n",
    "aula"
   ]
  },
  {
   "cell_type": "code",
   "execution_count": 47,
   "id": "c8fe304c",
   "metadata": {},
   "outputs": [
    {
     "data": {
      "text/plain": [
       "('Granados', 'Julca', 'Cusi', 'Gomez')"
      ]
     },
     "execution_count": 47,
     "metadata": {},
     "output_type": "execute_result"
    }
   ],
   "source": [
    "#1.2 Tuplas\n",
    "#Es una coleccion de elementos ordenada(ordenado significa que tiene un índice ) que no se pueden modificar\n",
    "#Es INALTERABLE\n",
    "#No SE PUEDE AGREGAR ELEMENTOS NI ELMINAR\n",
    "#Se IDENTIFICAN POR LOS PARENTÉSIS\n",
    "\n",
    "tupla_aula = ('Granados','Julca','Cusi','Gomez')\n",
    "tupla_aula"
   ]
  },
  {
   "cell_type": "code",
   "execution_count": 48,
   "id": "e73f3bcf",
   "metadata": {},
   "outputs": [
    {
     "name": "stdout",
     "output_type": "stream",
     "text": [
      "Granados\n",
      "Julca\n",
      "Cusi\n",
      "Gomez\n"
     ]
    }
   ],
   "source": [
    "for alumno in tupla_aula:\n",
    "    print(alumno)"
   ]
  },
  {
   "cell_type": "code",
   "execution_count": 51,
   "id": "9a1d7f16",
   "metadata": {},
   "outputs": [
    {
     "data": {
      "text/plain": [
       "'Cusi'"
      ]
     },
     "execution_count": 51,
     "metadata": {},
     "output_type": "execute_result"
    }
   ],
   "source": [
    "#\n",
    "tupla_aula[2]"
   ]
  },
  {
   "cell_type": "code",
   "execution_count": 52,
   "id": "05ce1ef7",
   "metadata": {},
   "outputs": [
    {
     "data": {
      "text/plain": [
       "4"
      ]
     },
     "execution_count": 52,
     "metadata": {},
     "output_type": "execute_result"
    }
   ],
   "source": [
    "len(tupla_aula)"
   ]
  },
  {
   "cell_type": "code",
   "execution_count": 53,
   "id": "0e9cafbc",
   "metadata": {},
   "outputs": [
    {
     "data": {
      "text/plain": [
       "{'Cusi', 'Gomez', 'Granados', 'Julca'}"
      ]
     },
     "execution_count": 53,
     "metadata": {},
     "output_type": "execute_result"
    }
   ],
   "source": [
    "#1.3 Conjuntos\n",
    "#Es una colección de elemntos que no está ordenada(singinifca que no tiene indice)\n",
    "conjunto_aula = {'Granados','Julca','Cusi','Gomez'}\n",
    "conjunto_aula"
   ]
  },
  {
   "cell_type": "code",
   "execution_count": 54,
   "id": "d7108952",
   "metadata": {},
   "outputs": [
    {
     "name": "stdout",
     "output_type": "stream",
     "text": [
      "Granados\n",
      "Cusi\n",
      "Gomez\n",
      "Julca\n"
     ]
    }
   ],
   "source": [
    "for alumno in conjunto_aula:\n",
    "    print(alumno)"
   ]
  },
  {
   "cell_type": "code",
   "execution_count": 56,
   "id": "e3a001b7",
   "metadata": {},
   "outputs": [],
   "source": [
    "#Observacion : no se puede acceder por posición porque no condidera indexación\n",
    "#Ejemplo\n",
    "#conjunto_aula[2] devolvera error"
   ]
  },
  {
   "cell_type": "code",
   "execution_count": 57,
   "id": "adb69c1c",
   "metadata": {},
   "outputs": [
    {
     "data": {
      "text/plain": [
       "4"
      ]
     },
     "execution_count": 57,
     "metadata": {},
     "output_type": "execute_result"
    }
   ],
   "source": [
    "len(conjunto_aula)"
   ]
  },
  {
   "cell_type": "code",
   "execution_count": 58,
   "id": "91918c32",
   "metadata": {},
   "outputs": [],
   "source": [
    "#Para agregar utilizamos la función add()\n",
    "conjunto_aula.add(\"Motta\")"
   ]
  },
  {
   "cell_type": "code",
   "execution_count": 59,
   "id": "acaf05d4",
   "metadata": {},
   "outputs": [
    {
     "data": {
      "text/plain": [
       "{'Cusi', 'Gomez', 'Granados', 'Julca', 'Motta'}"
      ]
     },
     "execution_count": 59,
     "metadata": {},
     "output_type": "execute_result"
    }
   ],
   "source": [
    "conjunto_aula"
   ]
  },
  {
   "cell_type": "code",
   "execution_count": 60,
   "id": "6f66f976",
   "metadata": {},
   "outputs": [
    {
     "data": {
      "text/plain": [
       "{'Cusi', 'Gomez', 'Julca', 'Motta'}"
      ]
     },
     "execution_count": 60,
     "metadata": {},
     "output_type": "execute_result"
    }
   ],
   "source": [
    "#eliminar\n",
    "conjunto_aula.remove('Granados')\n",
    "conjunto_aula"
   ]
  },
  {
   "cell_type": "code",
   "execution_count": 61,
   "id": "4125b586",
   "metadata": {},
   "outputs": [
    {
     "data": {
      "text/plain": [
       "{2: 'Cusi', '1': 'Julca', 'dos': 'Gomez', '0': 'Motta'}"
      ]
     },
     "execution_count": 61,
     "metadata": {},
     "output_type": "execute_result"
    }
   ],
   "source": [
    "# 1.4 Diccionarios\n",
    "#coleccion de elementos que estan indexados , no ordenados que se pueden modificar\n",
    "#Escritos entre llaves y estan formados por pares de elementos  INDICE:VALOR\n",
    "\n",
    "diccionario_aula ={2:'Cusi','1':'Julca','dos':'Gomez','0':'Motta'}\n",
    "diccionario_aula"
   ]
  },
  {
   "cell_type": "code",
   "execution_count": 62,
   "id": "ad8089ec",
   "metadata": {},
   "outputs": [
    {
     "data": {
      "text/plain": [
       "'Motta'"
      ]
     },
     "execution_count": 62,
     "metadata": {},
     "output_type": "execute_result"
    }
   ],
   "source": [
    "#Del diccionario extraer el valor cuyo indice sea String\n",
    "diccionario_aula['0']"
   ]
  },
  {
   "cell_type": "code",
   "execution_count": 63,
   "id": "600a9824",
   "metadata": {},
   "outputs": [
    {
     "data": {
      "text/plain": [
       "'Cusi'"
      ]
     },
     "execution_count": 63,
     "metadata": {},
     "output_type": "execute_result"
    }
   ],
   "source": [
    "diccionario_aula[2]"
   ]
  },
  {
   "cell_type": "code",
   "execution_count": 64,
   "id": "2f690fbf",
   "metadata": {},
   "outputs": [
    {
     "data": {
      "text/plain": [
       "'Gomez'"
      ]
     },
     "execution_count": 64,
     "metadata": {},
     "output_type": "execute_result"
    }
   ],
   "source": [
    "diccionario_aula['dos']"
   ]
  },
  {
   "cell_type": "code",
   "execution_count": 65,
   "id": "a16f77e7",
   "metadata": {},
   "outputs": [
    {
     "data": {
      "text/plain": [
       "{2: 'Cusi', '1': 'Julca', 'dos': 'Gomez', '0': 'Motta', '20': 'Serna'}"
      ]
     },
     "execution_count": 65,
     "metadata": {},
     "output_type": "execute_result"
    }
   ],
   "source": [
    "#añadir elemntos al diccionario\n",
    "diccionario_aula['20']='Serna'\n",
    "diccionario_aula"
   ]
  },
  {
   "cell_type": "code",
   "execution_count": 66,
   "id": "56e47fc1",
   "metadata": {},
   "outputs": [
    {
     "data": {
      "text/plain": [
       "{'1': 'Julca', 'dos': 'Gomez', '0': 'Motta', '20': 'Serna'}"
      ]
     },
     "execution_count": 66,
     "metadata": {},
     "output_type": "execute_result"
    }
   ],
   "source": [
    "#eliminar \n",
    "diccionario_aula.pop(2)\n",
    "diccionario_aula"
   ]
  },
  {
   "cell_type": "code",
   "execution_count": 67,
   "id": "5bd7acbc",
   "metadata": {},
   "outputs": [
    {
     "data": {
      "text/plain": [
       "{'1': 'Julca', '0': 'Motta', '20': 'Serna'}"
      ]
     },
     "execution_count": 67,
     "metadata": {},
     "output_type": "execute_result"
    }
   ],
   "source": [
    "#elimnar usando del\n",
    "del (diccionario_aula['dos'])\n",
    "diccionario_aula"
   ]
  },
  {
   "cell_type": "code",
   "execution_count": 68,
   "id": "6e2fd85d",
   "metadata": {},
   "outputs": [
    {
     "name": "stdout",
     "output_type": "stream",
     "text": [
      "1\n",
      "0\n",
      "20\n"
     ]
    }
   ],
   "source": [
    "#Para recorrer todos los elementos utlizamos for \n",
    "#ejemplo\n",
    "for indice in diccionario_aula:\n",
    "    print(indice)"
   ]
  },
  {
   "cell_type": "code",
   "execution_count": 69,
   "id": "16c3ff11",
   "metadata": {},
   "outputs": [
    {
     "name": "stdout",
     "output_type": "stream",
     "text": [
      "1 Julca\n",
      "0 Motta\n",
      "20 Serna\n"
     ]
    }
   ],
   "source": [
    "#para obtenr el indice y el valkro de cada elemntos utilizamos items()\n",
    "for indice, valor in diccionario_aula.items():\n",
    "    print(indice, valor)"
   ]
  },
  {
   "cell_type": "code",
   "execution_count": null,
   "id": "5cbbf183",
   "metadata": {},
   "outputs": [],
   "source": [
    "#1.5 Ejercicio:\n",
    "#Dado una lista de [] diseñar un codigo que muestre si el apellido de un\n",
    "# estudiante (ingreso por teclado forma parte de lista)\n",
    "lista_alumnos = ['ALANYA' ,\n",
    "'ALVA' ,\n",
    "'AZAÑERO' ,\n",
    "'CARRASCO' ,\n",
    "'CCACCYA', \n",
    "'COSME' ,\n",
    "'CUSI' ,\n",
    "'DIAZ' ,\n",
    "'FLORES', \n",
    "'GOMEZ' ,\n",
    "'GOMEZ' ,\n",
    "'GRANADOS',\n",
    "'HUANCAS',\n",
    "'JULCA' ,\n",
    "'LAURA' ,\n",
    "'MOTTA' ,\n",
    "'PINEDO' ,\n",
    "'PONCE' ,\n",
    "'QUINTANA',\n",
    "'RODRIGUEZ',\n",
    "'SERNA' ,\n",
    "'VILCA' ,\n",
    "'YAURICASA']\n",
    "lista_alumnos"
   ]
  },
  {
   "cell_type": "code",
   "execution_count": null,
   "id": "c6b4e575",
   "metadata": {},
   "outputs": [],
   "source": [
    "\n",
    "apellido = input(\"Ingrese un apellido :\")\n",
    "if (apellido in lista_alumnos):\n",
    "    print(\"El apellido esta en la lista\")\n",
    "else:\n",
    "    print(\"El apellido no esta en la lista\")"
   ]
  },
  {
   "cell_type": "code",
   "execution_count": null,
   "id": "5106e4cc",
   "metadata": {},
   "outputs": [],
   "source": []
  }
 ],
 "metadata": {
  "kernelspec": {
   "display_name": "Python 3 (ipykernel)",
   "language": "python",
   "name": "python3"
  },
  "language_info": {
   "codemirror_mode": {
    "name": "ipython",
    "version": 3
   },
   "file_extension": ".py",
   "mimetype": "text/x-python",
   "name": "python",
   "nbconvert_exporter": "python",
   "pygments_lexer": "ipython3",
   "version": "3.9.7"
  }
 },
 "nbformat": 4,
 "nbformat_minor": 5
}
